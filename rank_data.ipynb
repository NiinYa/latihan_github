{
  "nbformat": 4,
  "nbformat_minor": 0,
  "metadata": {
    "colab": {
      "provenance": [],
      "authorship_tag": "ABX9TyPMurJOIndJvW6DgL8n10D7",
      "include_colab_link": true
    },
    "kernelspec": {
      "name": "python3",
      "display_name": "Python 3"
    },
    "language_info": {
      "name": "python"
    }
  },
  "cells": [
    {
      "cell_type": "markdown",
      "metadata": {
        "id": "view-in-github",
        "colab_type": "text"
      },
      "source": [
        "<a href=\"https://colab.research.google.com/github/Valerie6048/latihan_github/blob/main/rank_data.ipynb\" target=\"_parent\"><img src=\"https://colab.research.google.com/assets/colab-badge.svg\" alt=\"Open In Colab\"/></a>"
      ]
    },
    {
      "cell_type": "code",
      "execution_count": null,
      "metadata": {
        "id": "eG81SEQctURS"
      },
      "outputs": [],
      "source": [
        "from google.colab import drive\n",
        "import pandas as pd\n",
        "import numpy as np"
      ]
    },
    {
      "cell_type": "code",
      "source": [
        "drive.mount('/content/drive')"
      ],
      "metadata": {
        "id": "H6TRUh-otzEC"
      },
      "execution_count": null,
      "outputs": []
    },
    {
      "cell_type": "code",
      "source": [
        "df = pd.read_csv('/content/drive/MyDrive/For Capstone/Collecting data/Place Detail (Scored + Keyword 1 & 2 Extracted  + Additional Feature (longlang, contact etc)) - Sheet1.csv')"
      ],
      "metadata": {
        "id": "sKOrxDUHt6Mg"
      },
      "execution_count": null,
      "outputs": []
    },
    {
      "cell_type": "code",
      "source": [
        "def rank_data(df):\n",
        "  \"\"\"Ranks the data in the CSV file.\n",
        "\n",
        "  Args:\n",
        "    df: The DataFrame containing the data to rank.\n",
        "\n",
        "  Returns:\n",
        "    A DataFrame containing the ranked data.\n",
        "  \"\"\"\n",
        "\n",
        "  rating_column = 'rating'\n",
        "  number_of_reviews_column = 'total_reviews'\n",
        "\n",
        "  weighted_ratings = []\n",
        "  for rating, number_of_reviews in zip(df[rating_column], df[number_of_reviews_column]):\n",
        "    weighted_rating = rating * math.log10(number_of_reviews)\n",
        "    weighted_ratings.append(weighted_rating)\n",
        "\n",
        "  df['Weighted Rating'] = weighted_ratings\n",
        "  df = df.sort_values('Weighted Rating', ascending=False)\n",
        "\n",
        "  output_file_name = '/content/drive/MyDrive/For Capstone/ranked_data.csv'\n",
        "  df.to_csv(output_file_name, index=False)\n",
        "\n",
        "  return df\n",
        "\n",
        "df = rank_data(df)"
      ],
      "metadata": {
        "id": "Qa1m6AsNt8ru"
      },
      "execution_count": null,
      "outputs": []
    }
  ]
}