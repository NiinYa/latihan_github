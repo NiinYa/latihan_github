{
  "nbformat": 4,
  "nbformat_minor": 0,
  "metadata": {
    "colab": {
      "provenance": [],
      "authorship_tag": "ABX9TyMMKwA/Jvgl+dCWA7JkwsES",
      "include_colab_link": true
    },
    "kernelspec": {
      "name": "python3",
      "display_name": "Python 3"
    },
    "language_info": {
      "name": "python"
    }
  },
  "cells": [
    {
      "cell_type": "markdown",
      "metadata": {
        "id": "view-in-github",
        "colab_type": "text"
      },
      "source": [
        "<a href=\"https://colab.research.google.com/github/Valerie6048/latihan_github/blob/main/Recommender_System_using_Cosine_Similarity.ipynb\" target=\"_parent\"><img src=\"https://colab.research.google.com/assets/colab-badge.svg\" alt=\"Open In Colab\"/></a>"
      ]
    },
    {
      "cell_type": "code",
      "execution_count": null,
      "metadata": {
        "id": "DsuGiMyjx1Bt"
      },
      "outputs": [],
      "source": [
        "import pandas as pd\n",
        "import numpy as np\n",
        "from sklearn.feature_extraction.text import TfidfVectorizer\n",
        "from sklearn.metrics.pairwise import cosine_similarity\n",
        "import json"
      ]
    },
    {
      "cell_type": "code",
      "source": [
        "from google.colab import drive\n",
        "drive.mount('/content/drive')"
      ],
      "metadata": {
        "id": "KwzVtFkHx8Zu"
      },
      "execution_count": null,
      "outputs": []
    },
    {
      "cell_type": "code",
      "source": [
        "# Membaca data dari file CSV\n",
        "df = pd.read_csv('/content/drive/MyDrive/For Capstone/Collecting data/Place Detail (Scored + Keyword 1 & 2 Extracted  + Additional Feature (longlang, contact etc)) + (finished Vectorized).csv')"
      ],
      "metadata": {
        "id": "66XAPoBpx9nd"
      },
      "execution_count": null,
      "outputs": []
    },
    {
      "cell_type": "code",
      "source": [
        "# Mengganti nilai np.nan dengan string kosong\n",
        "df['One_Keywords'] = df['One_Keywords'].fillna(\"\")\n",
        "\n",
        "# Inisialisasi objek TfidfVectorizer dan lakukan vektorisasi\n",
        "vectorizer = TfidfVectorizer()\n",
        "X = vectorizer.fit_transform(df['One_Keywords'])\n",
        "\n",
        "# Menghitung cosine similarity antara representasi vektor TF-IDF\n",
        "cosine_sim = cosine_similarity(X)"
      ],
      "metadata": {
        "id": "gJMY4Qzmx_GD"
      },
      "execution_count": null,
      "outputs": []
    },
    {
      "cell_type": "code",
      "source": [
        "def get_recommendations(item_title, cosine_similarities, df, top_n=5):\n",
        "    item_index = df[df['Name'] == item_title].index[0]  # Get the index of the reference item\n",
        "    similarity_scores = list(enumerate(cosine_similarities[item_index]))  # Get the similarity scores with other items\n",
        "    similarity_scores = sorted(similarity_scores, key=lambda x: x[1], reverse=True)  # Sort by similarity scores\n",
        "    top_items = similarity_scores[1:top_n+1]  # Take the top N items (excluding the reference item)\n",
        "    top_item_indices = [i[0] for i in top_items]  # Get the indices of the top items\n",
        "    top_item_data = df.iloc[top_item_indices].reset_index(drop=True)  # Get the data of the top items and reset index\n",
        "\n",
        "    # Create a list of dictionaries for the recommended items\n",
        "    recommendations = []\n",
        "    for _, row in top_item_data.iterrows():\n",
        "        recommendation = {\n",
        "            'name': row['Name'],\n",
        "            'address': row['Formatted Address'],\n",
        "            'rating': row['rating'],\n",
        "            'total_review': row['total_reviews'],\n",
        "            'url_photo': row.get('Photo URL', 'N/A'),\n",
        "            'place id': row.get('Place ID'),\n",
        "            'place url': row.get('Place URL'),\n",
        "            'contact': row.get('Contact'),\n",
        "            'longitude': row.get('Longitude'),\n",
        "            'latitude': row.get('Latitude')\n",
        "\n",
        "        }\n",
        "        recommendations.append(recommendation)\n",
        "    return recommendations\n"
      ],
      "metadata": {
        "id": "7fTlom9syBpR"
      },
      "execution_count": null,
      "outputs": []
    },
    {
      "cell_type": "code",
      "source": [
        "def filter_data(data, city_name):\n",
        "  filtered_data = []\n",
        "  for item in data:\n",
        "    if city_name in item[\"address\"]:\n",
        "      filtered_data.append(item)\n",
        "  return filtered_data"
      ],
      "metadata": {
        "id": "XhUOEKiYyKiu"
      },
      "execution_count": null,
      "outputs": []
    },
    {
      "cell_type": "code",
      "source": [
        "nama_caffe = input()"
      ],
      "metadata": {
        "id": "t1DXADPSyDOa"
      },
      "execution_count": null,
      "outputs": []
    },
    {
      "cell_type": "code",
      "source": [
        "nama_kota = input()"
      ],
      "metadata": {
        "id": "TvXKrm-jyXhq"
      },
      "execution_count": null,
      "outputs": []
    },
    {
      "cell_type": "code",
      "source": [
        "# Get recommendations\n",
        "recommendations = get_recommendations(nama_caffe, cosine_sim, df, top_n=20)\n",
        "\n",
        "# Print the recommendations\n",
        "print(\"Rekomendasi:\")\n",
        "for recommendation in recommendations:\n",
        "    print(recommendation)"
      ],
      "metadata": {
        "id": "PcuGlpCsyDtR"
      },
      "execution_count": null,
      "outputs": []
    },
    {
      "cell_type": "code",
      "source": [
        "filtered_data = filter_data(recommendations, nama_kota)\n",
        "\n",
        "print(json.dumps(filtered_data, indent=4))"
      ],
      "metadata": {
        "id": "r7M-pjsvyM5K"
      },
      "execution_count": null,
      "outputs": []
    }
  ]
}